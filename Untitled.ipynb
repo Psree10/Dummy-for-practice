{
 "cells": [
  {
   "cell_type": "code",
   "execution_count": null,
   "id": "0c133a31-a2b3-498b-b36a-69a60f23408c",
   "metadata": {},
   "outputs": [],
   "source": []
  }
 ],
 "metadata": {
  "kernelspec": {
   "display_name": "",
   "name": ""
  },
  "language_info": {
   "name": ""
  }
 },
 "nbformat": 4,
 "nbformat_minor": 5
}
